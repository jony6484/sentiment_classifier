{
 "cells": [
  {
   "cell_type": "markdown",
   "id": "1f9b192a",
   "metadata": {},
   "source": [
    "# Imports"
   ]
  },
  {
   "cell_type": "code",
   "execution_count": 1,
   "id": "7b243ba2",
   "metadata": {
    "ExecuteTime": {
     "end_time": "2021-06-09T12:27:17.026298Z",
     "start_time": "2021-06-09T12:27:17.020291Z"
    }
   },
   "outputs": [],
   "source": [
    "import numpy as np\n",
    "import pandas as pd\n",
    "import codecs\n",
    "import matplotlib.pyplot as plt"
   ]
  },
  {
   "cell_type": "markdown",
   "id": "18a58e94",
   "metadata": {},
   "source": [
    "# Reading the data"
   ]
  },
  {
   "cell_type": "code",
   "execution_count": 2,
   "id": "323b67ef",
   "metadata": {
    "ExecuteTime": {
     "end_time": "2021-06-09T12:27:22.037358Z",
     "start_time": "2021-06-09T12:27:22.026389Z"
    }
   },
   "outputs": [],
   "source": [
    "def strip_line(line):\n",
    "    \"\"\"\n",
    "    A function that removes non-alpha characters, single char words, and non hebrew words\n",
    "    It also removes duplicate letters at the end of a word\n",
    "    Input:: line\n",
    "    type:: string\n",
    "    output:: X,y\n",
    "    type:: string\n",
    "    \"\"\"\n",
    "    y = int(line[-1])\n",
    "    x = [word for word in line.split() if word.isalpha() and len(word)>1]\n",
    "    for word in x.copy():\n",
    "\n",
    "        for char in word:\n",
    "            if char not in 'אבגדהוזחטיכלמנסעפצקרשתךםןףץ':\n",
    "                x.remove(word)\n",
    "                break\n",
    "    \n",
    "    for i, word in enumerate(x):\n",
    "        word_cp = str(word)\n",
    "        last_chr = word[-1]\n",
    "\n",
    "        for j, char in enumerate(word_cp[::-1]):\n",
    "            if char == last_chr:\n",
    "                if j != 0:\n",
    "                    word = word[:-1]\n",
    "            else:\n",
    "                last_chr = ''\n",
    "\n",
    "        x.remove(word_cp)\n",
    "        x.insert(i, word)\n",
    "    x = ' '.join(x)\n",
    "        \n",
    "    return x, y"
   ]
  },
  {
   "cell_type": "code",
   "execution_count": 3,
   "id": "6c3b0471",
   "metadata": {
    "ExecuteTime": {
     "end_time": "2021-06-09T12:27:23.194051Z",
     "start_time": "2021-06-09T12:27:23.188518Z"
    }
   },
   "outputs": [],
   "source": [
    "# docs is the final dataset that will transform using TF-IDF\n",
    "def make_X_y(data):\n",
    "    docs = []\n",
    "    y = []\n",
    "    for line in data:\n",
    "        x, y0 = strip_line(line)\n",
    "        docs.append(x)\n",
    "        y.append(y0)\n",
    "    return docs, np.array(y)"
   ]
  },
  {
   "cell_type": "code",
   "execution_count": 14,
   "id": "d88dad6d",
   "metadata": {
    "ExecuteTime": {
     "end_time": "2021-06-09T12:29:12.615326Z",
     "start_time": "2021-06-09T12:29:12.041243Z"
    }
   },
   "outputs": [],
   "source": [
    "data_train = codecs.open('./data/token_train.tsv', 'r', 'utf-8').read().splitlines()\n",
    "data_test = codecs.open('./data/token_test.tsv', 'r', 'utf-8').read().splitlines()\n",
    "X_docs_train, y_train = make_X_y(data_train)\n",
    "X_docs_test, y_test = make_X_y(data_test)"
   ]
  },
  {
   "cell_type": "code",
   "execution_count": 5,
   "id": "1883cf18",
   "metadata": {
    "ExecuteTime": {
     "end_time": "2021-06-09T12:27:25.645625Z",
     "start_time": "2021-06-09T12:27:25.628673Z"
    }
   },
   "outputs": [
    {
     "data": {
      "text/plain": [
       "(2560,)"
      ]
     },
     "execution_count": 5,
     "metadata": {},
     "output_type": "execute_result"
    }
   ],
   "source": [
    "y_test.shape"
   ]
  },
  {
   "cell_type": "markdown",
   "id": "ff9b1b72",
   "metadata": {},
   "source": [
    "# Perform TF-IDF transformation using sklearn"
   ]
  },
  {
   "cell_type": "code",
   "execution_count": 21,
   "id": "01dc5d80",
   "metadata": {
    "ExecuteTime": {
     "end_time": "2021-06-09T12:34:22.402277Z",
     "start_time": "2021-06-09T12:34:22.396293Z"
    }
   },
   "outputs": [],
   "source": [
    "from sklearn.feature_extraction.text import TfidfVectorizer\n",
    "tfidf_vectorizer = TfidfVectorizer(use_idf=True, min_df=20, max_df=100)"
   ]
  },
  {
   "cell_type": "code",
   "execution_count": 22,
   "id": "fc5101da",
   "metadata": {
    "ExecuteTime": {
     "end_time": "2021-06-09T12:34:23.021921Z",
     "start_time": "2021-06-09T12:34:22.776636Z"
    }
   },
   "outputs": [],
   "source": [
    "X_train = tfidf_vectorizer.fit_transform(X_docs_train).toarray()\n",
    "X_test = tfidf_vectorizer.transform(X_docs_test).toarray()"
   ]
  },
  {
   "cell_type": "code",
   "execution_count": 23,
   "id": "91a58735",
   "metadata": {
    "ExecuteTime": {
     "end_time": "2021-06-09T12:34:23.236135Z",
     "start_time": "2021-06-09T12:34:23.232147Z"
    }
   },
   "outputs": [
    {
     "name": "stdout",
     "output_type": "stream",
     "text": [
      "(10244, 935) (10244,)\n",
      "(2560, 935) (2560,)\n"
     ]
    }
   ],
   "source": [
    "print(X_train.shape, y_train.shape)\n",
    "print(X_test.shape, y_test.shape)"
   ]
  },
  {
   "cell_type": "markdown",
   "id": "f35f316a",
   "metadata": {},
   "source": [
    "# Training the classifier"
   ]
  },
  {
   "cell_type": "code",
   "execution_count": 26,
   "id": "91a36f36",
   "metadata": {
    "ExecuteTime": {
     "end_time": "2021-06-09T12:36:11.248997Z",
     "start_time": "2021-06-09T12:36:08.707700Z"
    }
   },
   "outputs": [
    {
     "data": {
      "text/plain": [
       "LogisticRegression()"
      ]
     },
     "execution_count": 26,
     "metadata": {},
     "output_type": "execute_result"
    }
   ],
   "source": [
    "from sklearn.linear_model import LogisticRegression\n",
    "classifier = LogisticRegression()\n",
    "classifier.fit(X_train, y_train)"
   ]
  },
  {
   "cell_type": "markdown",
   "id": "e4cffb2b",
   "metadata": {},
   "source": [
    "# Making a confusion matrix"
   ]
  },
  {
   "cell_type": "code",
   "execution_count": 27,
   "id": "1487f8ca",
   "metadata": {
    "ExecuteTime": {
     "end_time": "2021-06-09T12:36:21.556920Z",
     "start_time": "2021-06-09T12:36:21.503237Z"
    }
   },
   "outputs": [
    {
     "name": "stdout",
     "output_type": "stream",
     "text": [
      "[[6488  322    4]\n",
      " [ 872 2259    1]\n",
      " [ 182   70   46]]\n"
     ]
    },
    {
     "data": {
      "text/plain": [
       "0.858356110894182"
      ]
     },
     "execution_count": 27,
     "metadata": {},
     "output_type": "execute_result"
    }
   ],
   "source": [
    "from sklearn.metrics import confusion_matrix, accuracy_score\n",
    "y_pred_train = classifier.predict(X_train)\n",
    "cm_train = confusion_matrix(y_train, y_pred_train)\n",
    "print(cm_train)\n",
    "accuracy_score(y_train, y_pred_train)"
   ]
  },
  {
   "cell_type": "code",
   "execution_count": 28,
   "id": "9fb28925",
   "metadata": {
    "ExecuteTime": {
     "end_time": "2021-06-09T12:36:43.145500Z",
     "start_time": "2021-06-09T12:36:43.128549Z"
    }
   },
   "outputs": [
    {
     "name": "stdout",
     "output_type": "stream",
     "text": [
      "[[1589  109    0]\n",
      " [ 275  514    1]\n",
      " [  39   28    5]]\n"
     ]
    },
    {
     "data": {
      "text/plain": [
       "0.8234375"
      ]
     },
     "execution_count": 28,
     "metadata": {},
     "output_type": "execute_result"
    }
   ],
   "source": [
    "y_pred_test = classifier.predict(X_test)\n",
    "cm_test = confusion_matrix(y_test, y_pred_test)\n",
    "print(cm_test)\n",
    "accuracy_score(y_test, y_pred_test)"
   ]
  },
  {
   "cell_type": "code",
   "execution_count": 29,
   "id": "40da6bed",
   "metadata": {
    "ExecuteTime": {
     "end_time": "2021-06-09T12:37:01.095142Z",
     "start_time": "2021-06-09T12:37:01.079445Z"
    }
   },
   "outputs": [],
   "source": [
    "manual_check = ['הנשיא ריבלין הוא אידיוט לא מאמין שהצבעתי לך'\n",
    "         ,'הנשיא הזה הוא בחירה גרועה'\n",
    "         ,'אני אוהב אותך נשיא יקר'\n",
    "         ,'זה פשוט חלום אחלה של נזשיא בהצלחה מרובה'\n",
    "         ,'אכזבה ממישהו שציפיתי שיגיד דעה חדה וברורה מתבייש בך רובי , אכזבת אותי'\n",
    "         ,'תומך במחבלים שמאלני'\n",
    "         ]\n",
    "X_check = tfidf_vectorizer.transform(manual_check).toarray()\n",
    "y_check = classifier.predict(X_check)"
   ]
  },
  {
   "cell_type": "code",
   "execution_count": 30,
   "id": "b9889725",
   "metadata": {
    "ExecuteTime": {
     "end_time": "2021-06-09T12:37:02.333505Z",
     "start_time": "2021-06-09T12:37:02.328779Z"
    }
   },
   "outputs": [
    {
     "name": "stdout",
     "output_type": "stream",
     "text": [
      "הנשיא ריבלין הוא אידיוט לא מאמין שהצבעתי לך negative\n",
      "----\n",
      "הנשיא הזה הוא בחירה גרועה Positive\n",
      "----\n",
      "אני אוהב אותך נשיא יקר Positive\n",
      "----\n",
      "זה פשוט חלום אחלה של נזשיא בהצלחה מרובה Positive\n",
      "----\n",
      "אכזבה ממישהו שציפיתי שיגיד דעה חדה וברורה מתבייש בך רובי , אכזבת אותי negative\n",
      "----\n",
      "תומך במחבלים שמאלני Positive\n",
      "----\n"
     ]
    }
   ],
   "source": [
    "translation_dict = {0: 'Positive', 1: 'negative', 2: 'unknown'}\n",
    "for line, y in zip(manual_check, y_check):\n",
    "    print(line, translation_dict[y])\n",
    "    print('----')"
   ]
  }
 ],
 "metadata": {
  "hide_input": false,
  "kernelspec": {
   "display_name": "Python 3",
   "language": "python",
   "name": "python3"
  },
  "language_info": {
   "codemirror_mode": {
    "name": "ipython",
    "version": 3
   },
   "file_extension": ".py",
   "mimetype": "text/x-python",
   "name": "python",
   "nbconvert_exporter": "python",
   "pygments_lexer": "ipython3",
   "version": "3.9.5"
  },
  "toc": {
   "base_numbering": 1,
   "nav_menu": {},
   "number_sections": true,
   "sideBar": true,
   "skip_h1_title": false,
   "title_cell": "Table of Contents",
   "title_sidebar": "Contents",
   "toc_cell": false,
   "toc_position": {},
   "toc_section_display": true,
   "toc_window_display": false
  },
  "varInspector": {
   "cols": {
    "lenName": 16,
    "lenType": 16,
    "lenVar": 40
   },
   "kernels_config": {
    "python": {
     "delete_cmd_postfix": "",
     "delete_cmd_prefix": "del ",
     "library": "var_list.py",
     "varRefreshCmd": "print(var_dic_list())"
    },
    "r": {
     "delete_cmd_postfix": ") ",
     "delete_cmd_prefix": "rm(",
     "library": "var_list.r",
     "varRefreshCmd": "cat(var_dic_list()) "
    }
   },
   "types_to_exclude": [
    "module",
    "function",
    "builtin_function_or_method",
    "instance",
    "_Feature"
   ],
   "window_display": false
  }
 },
 "nbformat": 4,
 "nbformat_minor": 5
}
