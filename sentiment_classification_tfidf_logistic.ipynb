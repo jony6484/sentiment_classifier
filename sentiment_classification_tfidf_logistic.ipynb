{
 "cells": [
  {
   "cell_type": "markdown",
   "id": "1f9b192a",
   "metadata": {},
   "source": [
    "# Imports"
   ]
  },
  {
   "cell_type": "code",
   "execution_count": 6,
   "id": "7b243ba2",
   "metadata": {
    "ExecuteTime": {
     "end_time": "2021-06-08T20:51:32.275156Z",
     "start_time": "2021-06-08T20:51:32.263618Z"
    }
   },
   "outputs": [],
   "source": [
    "import numpy as np\n",
    "import pandas as pd\n",
    "import codecs\n",
    "import matplotlib.pyplot as plt"
   ]
  },
  {
   "cell_type": "markdown",
   "id": "18a58e94",
   "metadata": {},
   "source": [
    "# Reading the data"
   ]
  },
  {
   "cell_type": "code",
   "execution_count": 7,
   "id": "323b67ef",
   "metadata": {
    "ExecuteTime": {
     "end_time": "2021-06-08T20:51:33.327369Z",
     "start_time": "2021-06-08T20:51:33.316517Z"
    }
   },
   "outputs": [],
   "source": [
    "def strip_line(line):\n",
    "    \"\"\"\n",
    "    A function that removes non-alpha characters, single char words, and non hebrew words\n",
    "    It also removes duplicate letters at the end of a word\n",
    "    Input:: line\n",
    "    type:: string\n",
    "    output:: X,y\n",
    "    type:: string\n",
    "    \"\"\"\n",
    "    y = int(line[-1])\n",
    "    x = [word for word in line.split() if word.isalpha() and len(word)>1]\n",
    "    for word in x.copy():\n",
    "\n",
    "        for char in word:\n",
    "            if char not in 'אבגדהוזחטיכלמנסעפצקרשתךםןףץ':\n",
    "                x.remove(word)\n",
    "                break\n",
    "    \n",
    "    for i, word in enumerate(x):\n",
    "        word_cp = str(word)\n",
    "        last_chr = word[-1]\n",
    "\n",
    "        for j, char in enumerate(word_cp[::-1]):\n",
    "            if char == last_chr:\n",
    "                if j != 0:\n",
    "                    word = word[:-1]\n",
    "            else:\n",
    "                last_chr = ''\n",
    "\n",
    "        x.remove(word_cp)\n",
    "        x.insert(i, word)\n",
    "    x = ' '.join(x)\n",
    "        \n",
    "    return x, y"
   ]
  },
  {
   "cell_type": "code",
   "execution_count": 8,
   "id": "6c3b0471",
   "metadata": {
    "ExecuteTime": {
     "end_time": "2021-06-08T20:51:33.994028Z",
     "start_time": "2021-06-08T20:51:33.986085Z"
    }
   },
   "outputs": [],
   "source": [
    "# docs is the final dataset that will transform using TF-IDF\n",
    "def make_X_y(data):\n",
    "    docs = []\n",
    "    y = []\n",
    "    for line in data:\n",
    "        x, y0 = strip_line(line)\n",
    "        docs.append(x)\n",
    "        y.append(y0)\n",
    "    return docs, np.array(y)"
   ]
  },
  {
   "cell_type": "code",
   "execution_count": 10,
   "id": "d88dad6d",
   "metadata": {
    "ExecuteTime": {
     "end_time": "2021-06-08T20:52:04.399145Z",
     "start_time": "2021-06-08T20:52:03.041203Z"
    }
   },
   "outputs": [],
   "source": [
    "data_train = codecs.open('./data/token_train.tsv', 'r', 'utf-8').read().splitlines()\n",
    "data_test = codecs.open('./data/token_test.tsv', 'r', 'utf-8').read().splitlines()\n",
    "X_docs_train, y_train = make_X_y(data_train)\n",
    "X_docs_test, y_test = make_X_y(data_test)"
   ]
  },
  {
   "cell_type": "code",
   "execution_count": 11,
   "id": "1883cf18",
   "metadata": {
    "ExecuteTime": {
     "end_time": "2021-06-08T20:52:06.542367Z",
     "start_time": "2021-06-08T20:52:06.528855Z"
    }
   },
   "outputs": [
    {
     "data": {
      "text/plain": [
       "(2560,)"
      ]
     },
     "execution_count": 11,
     "metadata": {},
     "output_type": "execute_result"
    }
   ],
   "source": [
    "y_test.shape"
   ]
  },
  {
   "cell_type": "markdown",
   "id": "ff9b1b72",
   "metadata": {},
   "source": [
    "# Perform TF-IDF transformation using sklearn"
   ]
  },
  {
   "cell_type": "code",
   "execution_count": 12,
   "id": "01dc5d80",
   "metadata": {
    "ExecuteTime": {
     "end_time": "2021-06-08T20:52:37.362600Z",
     "start_time": "2021-06-08T20:52:34.848287Z"
    }
   },
   "outputs": [],
   "source": [
    "from sklearn.feature_extraction.text import TfidfVectorizer\n",
    "tfidf_vectorizer = TfidfVectorizer(use_idf=True)#, min_df=10, max_df=100)"
   ]
  },
  {
   "cell_type": "code",
   "execution_count": 13,
   "id": "fc5101da",
   "metadata": {
    "ExecuteTime": {
     "end_time": "2021-06-08T20:52:43.946938Z",
     "start_time": "2021-06-08T20:52:42.897685Z"
    }
   },
   "outputs": [],
   "source": [
    "X_train = tfidf_vectorizer.fit_transform(X_docs_train).toarray()\n",
    "X_test = tfidf_vectorizer.transform(X_docs_test).toarray()"
   ]
  },
  {
   "cell_type": "code",
   "execution_count": 14,
   "id": "91a58735",
   "metadata": {
    "ExecuteTime": {
     "end_time": "2021-06-08T20:52:52.346934Z",
     "start_time": "2021-06-08T20:52:52.339360Z"
    }
   },
   "outputs": [
    {
     "name": "stdout",
     "output_type": "stream",
     "text": [
      "(10244, 25799) (10244,)\n",
      "(2560, 25799) (2560,)\n"
     ]
    }
   ],
   "source": [
    "print(X_train.shape, y_train.shape)\n",
    "print(X_test.shape, y_test.shape)"
   ]
  },
  {
   "cell_type": "markdown",
   "id": "f35f316a",
   "metadata": {},
   "source": [
    "# Training the classifier"
   ]
  },
  {
   "cell_type": "code",
   "execution_count": 15,
   "id": "91a36f36",
   "metadata": {
    "ExecuteTime": {
     "end_time": "2021-06-08T20:54:42.328977Z",
     "start_time": "2021-06-08T20:53:11.467053Z"
    }
   },
   "outputs": [
    {
     "data": {
      "text/plain": [
       "LogisticRegression()"
      ]
     },
     "execution_count": 15,
     "metadata": {},
     "output_type": "execute_result"
    }
   ],
   "source": [
    "from sklearn.linear_model import LogisticRegression\n",
    "classifier = LogisticRegression()\n",
    "classifier.fit(X_train, y_train)"
   ]
  },
  {
   "cell_type": "markdown",
   "id": "e4cffb2b",
   "metadata": {},
   "source": [
    "# Making a confusion matrix"
   ]
  },
  {
   "cell_type": "code",
   "execution_count": 16,
   "id": "1487f8ca",
   "metadata": {
    "ExecuteTime": {
     "end_time": "2021-06-08T20:54:43.676556Z",
     "start_time": "2021-06-08T20:54:42.460592Z"
    }
   },
   "outputs": [
    {
     "name": "stdout",
     "output_type": "stream",
     "text": [
      "[[6688  125    1]\n",
      " [ 157 2975    0]\n",
      " [ 138  100   60]]\n"
     ]
    },
    {
     "data": {
      "text/plain": [
       "0.9491409605622804"
      ]
     },
     "execution_count": 16,
     "metadata": {},
     "output_type": "execute_result"
    }
   ],
   "source": [
    "from sklearn.metrics import confusion_matrix, accuracy_score\n",
    "y_pred_train = classifier.predict(X_train)\n",
    "cm_train = confusion_matrix(y_train, y_pred_train)\n",
    "print(cm_train)\n",
    "accuracy_score(y_train, y_pred_train)"
   ]
  },
  {
   "cell_type": "code",
   "execution_count": 18,
   "id": "9fb28925",
   "metadata": {
    "ExecuteTime": {
     "end_time": "2021-06-08T20:55:02.743347Z",
     "start_time": "2021-06-08T20:55:02.443688Z"
    }
   },
   "outputs": [
    {
     "name": "stdout",
     "output_type": "stream",
     "text": [
      "[[1634   63    1]\n",
      " [ 117  673    0]\n",
      " [  37   27    8]]\n"
     ]
    },
    {
     "data": {
      "text/plain": [
       "0.904296875"
      ]
     },
     "execution_count": 18,
     "metadata": {},
     "output_type": "execute_result"
    }
   ],
   "source": [
    "y_pred_test = classifier.predict(X_test)\n",
    "cm_test = confusion_matrix(y_test, y_pred_test)\n",
    "print(cm_test)\n",
    "accuracy_score(y_test, y_pred_test)"
   ]
  },
  {
   "cell_type": "code",
   "execution_count": 19,
   "id": "40da6bed",
   "metadata": {
    "ExecuteTime": {
     "end_time": "2021-06-08T20:55:14.873627Z",
     "start_time": "2021-06-08T20:55:14.842495Z"
    }
   },
   "outputs": [],
   "source": [
    "manual_check = ['הנשיא ריבלין הוא אידיוט לא מאמין שהצבעתי לך'\n",
    "         ,'הנשיא הזה הוא בחירה גרועה'\n",
    "         ,'אני אוהב אותך נשיא יקר'\n",
    "         ,'זה פשוט חלום אחלה של נזשיא בהצלחה מרובה'\n",
    "         ,'אכזבה ממישהו שציפיתי שיגיד דעה חדה וברורה מתבייש בך רובי , אכזבת אותי'\n",
    "         ,'תומך במחבלים שמאלני'\n",
    "         ]\n",
    "X_check = tfidf_vectorizer.transform(manual_check).toarray()\n",
    "y_check = classifier.predict(X_check)"
   ]
  },
  {
   "cell_type": "code",
   "execution_count": 21,
   "id": "b9889725",
   "metadata": {
    "ExecuteTime": {
     "end_time": "2021-06-08T20:55:45.343948Z",
     "start_time": "2021-06-08T20:55:45.335415Z"
    }
   },
   "outputs": [
    {
     "name": "stdout",
     "output_type": "stream",
     "text": [
      "הנשיא ריבלין הוא אידיוט לא מאמין שהצבעתי לך negative\n",
      "----\n",
      "הנשיא הזה הוא בחירה גרועה Positive\n",
      "----\n",
      "אני אוהב אותך נשיא יקר Positive\n",
      "----\n",
      "זה פשוט חלום אחלה של נזשיא בהצלחה מרובה Positive\n",
      "----\n",
      "אכזבה ממישהו שציפיתי שיגיד דעה חדה וברורה מתבייש בך רובי , אכזבת אותי negative\n",
      "----\n",
      "תומך במחבלים שמאלני negative\n",
      "----\n"
     ]
    }
   ],
   "source": [
    "translation_dict = {0: 'Positive', 1: 'negative', 2: 'unknown'}\n",
    "for line, y in zip(manual_check, y_check):\n",
    "    print(line, translation_dict[y])\n",
    "    print('----')"
   ]
  }
 ],
 "metadata": {
  "hide_input": false,
  "kernelspec": {
   "display_name": "Python 3",
   "language": "python",
   "name": "python3"
  },
  "language_info": {
   "codemirror_mode": {
    "name": "ipython",
    "version": 3
   },
   "file_extension": ".py",
   "mimetype": "text/x-python",
   "name": "python",
   "nbconvert_exporter": "python",
   "pygments_lexer": "ipython3",
   "version": "3.9.5"
  },
  "toc": {
   "base_numbering": 1,
   "nav_menu": {},
   "number_sections": true,
   "sideBar": true,
   "skip_h1_title": false,
   "title_cell": "Table of Contents",
   "title_sidebar": "Contents",
   "toc_cell": false,
   "toc_position": {},
   "toc_section_display": true,
   "toc_window_display": false
  },
  "varInspector": {
   "cols": {
    "lenName": 16,
    "lenType": 16,
    "lenVar": 40
   },
   "kernels_config": {
    "python": {
     "delete_cmd_postfix": "",
     "delete_cmd_prefix": "del ",
     "library": "var_list.py",
     "varRefreshCmd": "print(var_dic_list())"
    },
    "r": {
     "delete_cmd_postfix": ") ",
     "delete_cmd_prefix": "rm(",
     "library": "var_list.r",
     "varRefreshCmd": "cat(var_dic_list()) "
    }
   },
   "types_to_exclude": [
    "module",
    "function",
    "builtin_function_or_method",
    "instance",
    "_Feature"
   ],
   "window_display": false
  }
 },
 "nbformat": 4,
 "nbformat_minor": 5
}
